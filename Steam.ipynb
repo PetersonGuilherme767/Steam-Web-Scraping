{
 "cells": [
  {
   "cell_type": "code",
   "execution_count": null,
   "metadata": {},
   "outputs": [],
   "source": [
    "from selenium import webdriver\n",
    "from time import sleep"
   ]
  },
  {
   "cell_type": "code",
   "execution_count": null,
   "metadata": {},
   "outputs": [],
   "source": [
    "driver = webdriver.Chrome('chromedriver')\n",
    "driver.get('https://store.steampowered.com/games/?l=brazilian')"
   ]
  },
  {
   "cell_type": "code",
   "execution_count": null,
   "metadata": {},
   "outputs": [],
   "source": [
    "def jogos():\n",
    "    with open('steam.csv', 'a', encoding = 'utf-8') as file:\n",
    "        for elemento in range(1, 16):\n",
    "            nome = driver.find_element_by_xpath(f'//*[@id=\"NewReleasesRows\"]/a[{elemento}]/div[3]/div[1]').text\n",
    "            try:\n",
    "                preço = driver.find_element_by_xpath(f'//*[@id=\"NewReleasesRows\"]/a[{elemento}]/div[2]/div/div').text\n",
    "            except:\n",
    "                preço = driver.find_element_by_xpath(f'//*[@id=\"NewReleasesRows\"]/a[{elemento}]/div[2]/div[2]/div[1]').text\n",
    "            desc = driver.find_element_by_xpath(f'//*[@id=\"NewReleasesRows\"]/a[{elemento}]/div[3]/div[2]/div').text\n",
    "            file.write(nome+'; '+preço+'; '+desc+'\\n')\n",
    "def click():\n",
    "    driver.find_element_by_xpath('//*[@id=\"NewReleases_btn_next\"]').click\n",
    "    "
   ]
  },
  {
   "cell_type": "code",
   "execution_count": null,
   "metadata": {},
   "outputs": [],
   "source": [
    "while True:\n",
    "    jogos()\n",
    "    sleep(5)\n",
    "    click()\n",
    "    "
   ]
  },
  {
   "cell_type": "code",
   "execution_count": null,
   "metadata": {},
   "outputs": [],
   "source": []
  }
 ],
 "metadata": {
  "kernelspec": {
   "display_name": "Python 3",
   "language": "python",
   "name": "python3"
  },
  "language_info": {
   "codemirror_mode": {
    "name": "ipython",
    "version": 3
   },
   "file_extension": ".py",
   "mimetype": "text/x-python",
   "name": "python",
   "nbconvert_exporter": "python",
   "pygments_lexer": "ipython3",
   "version": "3.8.3"
  }
 },
 "nbformat": 4,
 "nbformat_minor": 4
}
